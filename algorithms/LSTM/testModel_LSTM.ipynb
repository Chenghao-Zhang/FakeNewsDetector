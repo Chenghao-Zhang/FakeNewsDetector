{
 "cells": [
  {
   "cell_type": "code",
   "execution_count": 1,
   "id": "b6b946d6",
   "metadata": {},
   "outputs": [],
   "source": [
    "from keras.models import load_model\n",
    "import pandas as pd\n",
    "import numpy as np\n",
    "from keras.layers import LSTM, Dropout, Dense, Embedding\n",
    "from keras import Sequential\n",
    "from keras.preprocessing.text import Tokenizer\n",
    "from keras_preprocessing.sequence import pad_sequences\n",
    "from nltk.corpus import stopwords"
   ]
  },
  {
   "cell_type": "code",
   "execution_count": 2,
   "id": "026a92d0",
   "metadata": {},
   "outputs": [
    {
     "name": "stderr",
     "output_type": "stream",
     "text": [
      "2022-09-26 19:22:52.414628: I tensorflow/core/platform/cpu_feature_guard.cc:193] This TensorFlow binary is optimized with oneAPI Deep Neural Network Library (oneDNN) to use the following CPU instructions in performance-critical operations:  SSE4.1 SSE4.2\n",
      "To enable them in other operations, rebuild TensorFlow with the appropriate compiler flags.\n"
     ]
    }
   ],
   "source": [
    "parent_path = 'FakeNewsDetector/dataset/fake-news-FromKaggle/'\n",
    "model= load_model('m1.h5')"
   ]
  },
  {
   "cell_type": "code",
   "execution_count": 3,
   "id": "77fe7d1f",
   "metadata": {},
   "outputs": [],
   "source": [
    "def data_process(dataframe):\n",
    "    df = dataframe\n",
    "    df = df.drop(columns=['id', 'title', 'author'], axis=1)\n",
    "    df = df.dropna(axis=0)\n",
    "    df['clean_news'] = df['text'].str.lower()\n",
    "    df['clean_news'] = df['clean_news'].str.replace('[^A-Za-z0-9\\s]', '')\n",
    "    df['clean_news'] = df['clean_news'].str.replace('\\n', '')\n",
    "    df['clean_news'] = df['clean_news'].str.replace('\\s+', ' ')\n",
    "\n",
    "    # delete stopwords and punctuation\n",
    "    stop = stopwords.words('english')\n",
    "    df['clean_news'] = df['clean_news'].apply(lambda x: \" \".join([word for word in x.split() if word not in stop]))\n",
    "\n",
    "    return df"
   ]
  },
  {
   "cell_type": "markdown",
   "id": "dc377f41",
   "metadata": {},
   "source": [
    "## First Test"
   ]
  },
  {
   "cell_type": "code",
   "execution_count": 4,
   "id": "d17c3041",
   "metadata": {},
   "outputs": [
    {
     "name": "stderr",
     "output_type": "stream",
     "text": [
      "/var/folders/yn/tcg080tn52v8gfv4d82tm89h0000gn/T/ipykernel_28595/583088388.py:6: FutureWarning: The default value of regex will change from True to False in a future version.\n",
      "  df['clean_news'] = df['clean_news'].str.replace('[^A-Za-z0-9\\s]', '')\n",
      "/var/folders/yn/tcg080tn52v8gfv4d82tm89h0000gn/T/ipykernel_28595/583088388.py:8: FutureWarning: The default value of regex will change from True to False in a future version.\n",
      "  df['clean_news'] = df['clean_news'].str.replace('\\s+', ' ')\n"
     ]
    }
   ],
   "source": [
    "df_test = pd.read_csv(parent_path + 'test.csv')\n",
    "df_label = pd.read_csv(parent_path + 'submit.csv')\n",
    "df_test = pd.merge(df_label, df_test, on='id')\n",
    "df_test = data_process(df_test)"
   ]
  },
  {
   "cell_type": "code",
   "execution_count": 6,
   "id": "e24f1053",
   "metadata": {},
   "outputs": [],
   "source": [
    "tokenizer = Tokenizer()\n",
    "tokenizer.fit_on_texts(df_test['clean_news'])\n",
    "sequences = tokenizer.texts_to_sequences(df_test['clean_news'])\n",
    "padded_seq = pad_sequences(sequences, maxlen=500, padding='post', truncating='post')"
   ]
  },
  {
   "cell_type": "code",
   "execution_count": 7,
   "id": "224f5400",
   "metadata": {},
   "outputs": [
    {
     "name": "stdout",
     "output_type": "stream",
     "text": [
      "163/163 [==============================] - 15s 90ms/step\n"
     ]
    }
   ],
   "source": [
    "# prediction\n",
    "result = model.predict(padded_seq)\n",
    "result_classify = np.round(result).astype(int)"
   ]
  },
  {
   "cell_type": "code",
   "execution_count": 8,
   "id": "05b7c459",
   "metadata": {},
   "outputs": [
    {
     "data": {
      "text/plain": [
       "0.8401694588869633"
      ]
     },
     "execution_count": 8,
     "metadata": {},
     "output_type": "execute_result"
    }
   ],
   "source": [
    "# calculate accuracy\n",
    "np.sum((np.array(df_test['label']) == result_classify.T.squeeze()) == 1) / len(result)"
   ]
  },
  {
   "cell_type": "code",
   "execution_count": null,
   "id": "6f884055",
   "metadata": {},
   "outputs": [],
   "source": []
  },
  {
   "cell_type": "markdown",
   "id": "d256a669",
   "metadata": {},
   "source": [
    "## Second Test"
   ]
  },
  {
   "cell_type": "code",
   "execution_count": 9,
   "id": "01ead754",
   "metadata": {},
   "outputs": [
    {
     "data": {
      "text/html": [
       "<div>\n",
       "<style scoped>\n",
       "    .dataframe tbody tr th:only-of-type {\n",
       "        vertical-align: middle;\n",
       "    }\n",
       "\n",
       "    .dataframe tbody tr th {\n",
       "        vertical-align: top;\n",
       "    }\n",
       "\n",
       "    .dataframe thead th {\n",
       "        text-align: right;\n",
       "    }\n",
       "</style>\n",
       "<table border=\"1\" class=\"dataframe\">\n",
       "  <thead>\n",
       "    <tr style=\"text-align: right;\">\n",
       "      <th></th>\n",
       "      <th>content</th>\n",
       "      <th>title</th>\n",
       "      <th>publish_date</th>\n",
       "      <th>url</th>\n",
       "      <th>news_id</th>\n",
       "      <th>label</th>\n",
       "    </tr>\n",
       "  </thead>\n",
       "  <tbody>\n",
       "    <tr>\n",
       "      <th>0</th>\n",
       "      <td>On Sept. 28, pastors from 20 states will give ...</td>\n",
       "      <td>Pastors To Protest IRS Rules on Political Advo...</td>\n",
       "      <td>2008-09-19</td>\n",
       "      <td>http://www.pewforum.org/2008/09/19/pastors-to-...</td>\n",
       "      <td>/Users/zch/Desktop/DS440/dataset/FakeNewsNet-m...</td>\n",
       "      <td>fake</td>\n",
       "    </tr>\n",
       "    <tr>\n",
       "      <th>1</th>\n",
       "      <td>UNHCR, the UN Refugee Agency, has welcomed new...</td>\n",
       "      <td>UN Refugee Agency welcomes arrival of 10,000th...</td>\n",
       "      <td>2016-09-05</td>\n",
       "      <td>http://www.unhcr.org/en-us/news/press/2016/9/5...</td>\n",
       "      <td>/Users/zch/Desktop/DS440/dataset/FakeNewsNet-m...</td>\n",
       "      <td>fake</td>\n",
       "    </tr>\n",
       "  </tbody>\n",
       "</table>\n",
       "</div>"
      ],
      "text/plain": [
       "                                             content  \\\n",
       "0  On Sept. 28, pastors from 20 states will give ...   \n",
       "1  UNHCR, the UN Refugee Agency, has welcomed new...   \n",
       "\n",
       "                                               title publish_date  \\\n",
       "0  Pastors To Protest IRS Rules on Political Advo...   2008-09-19   \n",
       "1  UN Refugee Agency welcomes arrival of 10,000th...   2016-09-05   \n",
       "\n",
       "                                                 url  \\\n",
       "0  http://www.pewforum.org/2008/09/19/pastors-to-...   \n",
       "1  http://www.unhcr.org/en-us/news/press/2016/9/5...   \n",
       "\n",
       "                                             news_id label  \n",
       "0  /Users/zch/Desktop/DS440/dataset/FakeNewsNet-m...  fake  \n",
       "1  /Users/zch/Desktop/DS440/dataset/FakeNewsNet-m...  fake  "
      ]
     },
     "execution_count": 9,
     "metadata": {},
     "output_type": "execute_result"
    }
   ],
   "source": [
    "# data from other dataset\n",
    "# data in this dataset are all political fake news\n",
    "df_test2 = pd.read_csv('FakeNewsNet_Politifact.csv')\n",
    "df_test2.head(2)"
   ]
  },
  {
   "cell_type": "code",
   "execution_count": 11,
   "id": "9599009a",
   "metadata": {},
   "outputs": [
    {
     "name": "stderr",
     "output_type": "stream",
     "text": [
      "/var/folders/yn/tcg080tn52v8gfv4d82tm89h0000gn/T/ipykernel_28595/1301744868.py:3: FutureWarning: The default value of regex will change from True to False in a future version.\n",
      "  df_test2['clean_news'] = df_test2['clean_news'].str.replace('[^A-Za-z0-9\\s]','')\n",
      "/var/folders/yn/tcg080tn52v8gfv4d82tm89h0000gn/T/ipykernel_28595/1301744868.py:5: FutureWarning: The default value of regex will change from True to False in a future version.\n",
      "  df_test2['clean_news'] = df_test2['clean_news'].str.replace('\\s+',' ')\n"
     ]
    }
   ],
   "source": [
    "df_test2 = df_test2.dropna(axis=0)\n",
    "df_test2['clean_news'] = df_test2['content'].str.lower()\n",
    "df_test2['clean_news'] = df_test2['clean_news'].str.replace('[^A-Za-z0-9\\s]','')\n",
    "df_test2['clean_news'] = df_test2['clean_news'].str.replace('\\n','')\n",
    "df_test2['clean_news'] = df_test2['clean_news'].str.replace('\\s+',' ')"
   ]
  },
  {
   "cell_type": "code",
   "execution_count": 12,
   "id": "16b8c31f",
   "metadata": {},
   "outputs": [
    {
     "data": {
      "text/html": [
       "<div>\n",
       "<style scoped>\n",
       "    .dataframe tbody tr th:only-of-type {\n",
       "        vertical-align: middle;\n",
       "    }\n",
       "\n",
       "    .dataframe tbody tr th {\n",
       "        vertical-align: top;\n",
       "    }\n",
       "\n",
       "    .dataframe thead th {\n",
       "        text-align: right;\n",
       "    }\n",
       "</style>\n",
       "<table border=\"1\" class=\"dataframe\">\n",
       "  <thead>\n",
       "    <tr style=\"text-align: right;\">\n",
       "      <th></th>\n",
       "      <th>content</th>\n",
       "      <th>title</th>\n",
       "      <th>publish_date</th>\n",
       "      <th>url</th>\n",
       "      <th>news_id</th>\n",
       "      <th>label</th>\n",
       "      <th>clean_news</th>\n",
       "    </tr>\n",
       "  </thead>\n",
       "  <tbody>\n",
       "    <tr>\n",
       "      <th>0</th>\n",
       "      <td>On Sept. 28, pastors from 20 states will give ...</td>\n",
       "      <td>Pastors To Protest IRS Rules on Political Advo...</td>\n",
       "      <td>2008-09-19</td>\n",
       "      <td>http://www.pewforum.org/2008/09/19/pastors-to-...</td>\n",
       "      <td>/Users/zch/Desktop/DS440/dataset/FakeNewsNet-m...</td>\n",
       "      <td>fake</td>\n",
       "      <td>sept 28 pastors 20 states give politically bas...</td>\n",
       "    </tr>\n",
       "    <tr>\n",
       "      <th>1</th>\n",
       "      <td>UNHCR, the UN Refugee Agency, has welcomed new...</td>\n",
       "      <td>UN Refugee Agency welcomes arrival of 10,000th...</td>\n",
       "      <td>2016-09-05</td>\n",
       "      <td>http://www.unhcr.org/en-us/news/press/2016/9/5...</td>\n",
       "      <td>/Users/zch/Desktop/DS440/dataset/FakeNewsNet-m...</td>\n",
       "      <td>fake</td>\n",
       "      <td>unhcr un refugee agency welcomed news arrival ...</td>\n",
       "    </tr>\n",
       "  </tbody>\n",
       "</table>\n",
       "</div>"
      ],
      "text/plain": [
       "                                             content  \\\n",
       "0  On Sept. 28, pastors from 20 states will give ...   \n",
       "1  UNHCR, the UN Refugee Agency, has welcomed new...   \n",
       "\n",
       "                                               title publish_date  \\\n",
       "0  Pastors To Protest IRS Rules on Political Advo...   2008-09-19   \n",
       "1  UN Refugee Agency welcomes arrival of 10,000th...   2016-09-05   \n",
       "\n",
       "                                                 url  \\\n",
       "0  http://www.pewforum.org/2008/09/19/pastors-to-...   \n",
       "1  http://www.unhcr.org/en-us/news/press/2016/9/5...   \n",
       "\n",
       "                                             news_id label  \\\n",
       "0  /Users/zch/Desktop/DS440/dataset/FakeNewsNet-m...  fake   \n",
       "1  /Users/zch/Desktop/DS440/dataset/FakeNewsNet-m...  fake   \n",
       "\n",
       "                                          clean_news  \n",
       "0  sept 28 pastors 20 states give politically bas...  \n",
       "1  unhcr un refugee agency welcomed news arrival ...  "
      ]
     },
     "execution_count": 12,
     "metadata": {},
     "output_type": "execute_result"
    }
   ],
   "source": [
    "stop = stopwords.words('english')\n",
    "df_test2['clean_news'] = df_test2['clean_news'].apply(lambda x: \" \".join([word for word in x.split() if word not in stop]))\n",
    "df_test2.head(2)"
   ]
  },
  {
   "cell_type": "code",
   "execution_count": 14,
   "id": "db20764d",
   "metadata": {},
   "outputs": [],
   "source": [
    "tokenizer = Tokenizer()\n",
    "tokenizer.fit_on_texts(df_test2['clean_news'])\n",
    "\n",
    "sequences = tokenizer.texts_to_sequences(df_test2['clean_news'])\n",
    "padded_seq = pad_sequences(sequences, maxlen=500, padding='post', truncating='post')"
   ]
  },
  {
   "cell_type": "code",
   "execution_count": 15,
   "id": "858da635",
   "metadata": {},
   "outputs": [
    {
     "name": "stdout",
     "output_type": "stream",
     "text": [
      "9/9 [==============================] - 1s 92ms/step\n"
     ]
    }
   ],
   "source": [
    "# prediction\n",
    "result = model.predict(padded_seq)\n",
    "result_classify = np.round(result).astype(int)"
   ]
  },
  {
   "cell_type": "code",
   "execution_count": 19,
   "id": "c50b9f17",
   "metadata": {},
   "outputs": [
    {
     "data": {
      "text/html": [
       "<div>\n",
       "<style scoped>\n",
       "    .dataframe tbody tr th:only-of-type {\n",
       "        vertical-align: middle;\n",
       "    }\n",
       "\n",
       "    .dataframe tbody tr th {\n",
       "        vertical-align: top;\n",
       "    }\n",
       "\n",
       "    .dataframe thead th {\n",
       "        text-align: right;\n",
       "    }\n",
       "</style>\n",
       "<table border=\"1\" class=\"dataframe\">\n",
       "  <thead>\n",
       "    <tr style=\"text-align: right;\">\n",
       "      <th></th>\n",
       "      <th>content</th>\n",
       "      <th>title</th>\n",
       "      <th>publish_date</th>\n",
       "      <th>url</th>\n",
       "      <th>news_id</th>\n",
       "      <th>label</th>\n",
       "      <th>clean_news</th>\n",
       "    </tr>\n",
       "  </thead>\n",
       "  <tbody>\n",
       "  </tbody>\n",
       "</table>\n",
       "</div>"
      ],
      "text/plain": [
       "Empty DataFrame\n",
       "Columns: [content, title, publish_date, url, news_id, label, clean_news]\n",
       "Index: []"
      ]
     },
     "execution_count": 19,
     "metadata": {},
     "output_type": "execute_result"
    }
   ],
   "source": [
    "df_test2[df_test2['label']!='fake']"
   ]
  },
  {
   "cell_type": "code",
   "execution_count": null,
   "id": "1e8ed16b",
   "metadata": {},
   "outputs": [],
   "source": []
  },
  {
   "cell_type": "code",
   "execution_count": 16,
   "id": "88e73d69",
   "metadata": {},
   "outputs": [
    {
     "data": {
      "text/plain": [
       "0.8483754512635379"
      ]
     },
     "execution_count": 16,
     "metadata": {},
     "output_type": "execute_result"
    }
   ],
   "source": [
    "np.sum(result_classify)/len(result_classify)"
   ]
  },
  {
   "cell_type": "code",
   "execution_count": null,
   "id": "cdfd7e6e",
   "metadata": {},
   "outputs": [],
   "source": []
  }
 ],
 "metadata": {
  "kernelspec": {
   "display_name": "tf",
   "language": "python",
   "name": "tf"
  },
  "language_info": {
   "codemirror_mode": {
    "name": "ipython",
    "version": 3
   },
   "file_extension": ".py",
   "mimetype": "text/x-python",
   "name": "python",
   "nbconvert_exporter": "python",
   "pygments_lexer": "ipython3",
   "version": "3.10.4"
  }
 },
 "nbformat": 4,
 "nbformat_minor": 5
}
